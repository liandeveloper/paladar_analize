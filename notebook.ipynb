{
 "cells": [
  {
   "cell_type": "code",
   "execution_count": null,
   "metadata": {},
   "outputs": [],
   "source": [
    "import json\n",
    "import os\n",
    "\n",
    "# JSON Files\n",
    "path = 'data_sets/restaurants_bars'\n",
    "\n",
    "# JSON List\n",
    "json_list = []\n",
    "\n",
    "# Main Path of the Folder\n",
    "for folder in os.listdir(path):\n",
    "    path_folder = os.path.join(path, folder)\n",
    "\n",
    "    # Check if is a Folder\n",
    "    if os.path.isdir(path_folder):\n",
    "        # Check each Files in the Folder\n",
    "        for file in os.listdir(path):\n",
    "            if file.endswith('.json'): # Check all Files end with '.json'\n",
    "                path_file = os.path.join(path, file)\n",
    "\n",
    "                # Load JSON\n",
    "                with open(path_file, 'r', encoding='utf-8') as f:\n",
    "                    datas = json.load(f)\n",
    "                    json_list.append(datas) # Add Datas to the List\n",
    "print(json_list)"
   ]
  }
 ],
 "metadata": {
  "kernelspec": {
   "display_name": "Python 3",
   "language": "python",
   "name": "python3"
  },
  "language_info": {
   "name": "python",
   "version": "3.12.3"
  }
 },
 "nbformat": 4,
 "nbformat_minor": 2
}
